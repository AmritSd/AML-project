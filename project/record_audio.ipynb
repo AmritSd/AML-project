{
 "cells": [
  {
   "cell_type": "markdown",
   "metadata": {},
   "source": [
    "Simple task: Record audio"
   ]
  },
  {
   "cell_type": "code",
   "execution_count": 20,
   "metadata": {},
   "outputs": [],
   "source": [
    "# Source : https://www.thepythoncode.com/article/play-and-record-audio-sound-in-python\n",
    "\n",
    "import pyaudio\n",
    "import wave\n",
    "\n",
    "# the file name output you want to record into\n",
    "filename = \"recorded.wav\"\n",
    "# set the chunk size of 1024 samples\n",
    "chunk = 1024\n",
    "# sample format\n",
    "FORMAT = pyaudio.paInt16\n",
    "# mono, change to 2 if you want stereo\n",
    "channels = 1\n",
    "# 44100 samples per second\n",
    "sample_rate = 20000\n",
    "record_seconds = 5\n",
    "\n"
   ]
  },
  {
   "cell_type": "code",
   "execution_count": 21,
   "metadata": {},
   "outputs": [
    {
     "name": "stdout",
     "output_type": "stream",
     "text": [
      "Recording...\n",
      "Finished recording.\n"
     ]
    }
   ],
   "source": [
    "\n",
    "\n",
    "# initialize PyAudio object\n",
    "p = pyaudio.PyAudio()\n",
    "# open stream object as input & output\n",
    "stream = p.open(format=FORMAT,\n",
    "                channels=channels,\n",
    "                rate=sample_rate,\n",
    "                input=True,\n",
    "                output=True,\n",
    "                frames_per_buffer=chunk)\n",
    "frames = []\n",
    "print(\"Recording...\")\n",
    "for i in range(int(sample_rate / chunk * record_seconds)):\n",
    "    data = stream.read(chunk)\n",
    "    # if you want to hear your voice while recording\n",
    "    # stream.write(data)\n",
    "    frames.append(data)\n",
    "print(\"Finished recording.\")\n",
    "# stop and close stream\n",
    "stream.stop_stream()\n",
    "stream.close()\n",
    "# terminate pyaudio object\n",
    "p.terminate()\n",
    "# save audio file\n",
    "# open the file in 'write bytes' mode\n",
    "wf = wave.open(filename, \"wb\")\n",
    "# set the channels\n",
    "wf.setnchannels(channels)\n",
    "# set the sample format\n",
    "wf.setsampwidth(p.get_sample_size(FORMAT))\n",
    "# set the sample rate\n",
    "wf.setframerate(sample_rate)\n",
    "# write the frames as bytes\n",
    "wf.writeframes(b\"\".join(frames))\n",
    "# close the file\n",
    "wf.close()"
   ]
  },
  {
   "cell_type": "code",
   "execution_count": 22,
   "metadata": {},
   "outputs": [
    {
     "data": {
      "image/png": "[encoded data removed]",
      "text/plain": [
       "<Figure size 1080x360 with 1 Axes>"
      ]
     },
     "metadata": {
      "needs_background": "light"
     },
     "output_type": "display_data"
    }
   ],
   "source": [
    "# Open wav file and load into numpy array\n",
    "import numpy as np\n",
    "import wave\n",
    "import matplotlib.pyplot as plt\n",
    "\n",
    "# Open wav file and load into numpy array\n",
    "wav_file = wave.open(\"recorded.wav\", \"r\")\n",
    "signal = wav_file.readframes(-1)\n",
    "signal = np.frombuffer(signal, dtype=\"int16\")\n",
    "fs = wav_file.getframerate()\n",
    "wav_file.close()\n",
    "\n",
    "# Plot the signal read from wav file\n",
    "plt.figure(1, figsize=(15, 5))\n",
    "plt.title(\"Signal Wave...\")\n",
    "plt.plot(signal)\n",
    "plt.show()\n"
   ]
  },
  {
   "cell_type": "code",
   "execution_count": null,
   "metadata": {},
   "outputs": [],
   "source": [
    "# Make a autoencoder model to compress the audio signal\n",
    "from tensorflow.keras.layers import Input, Dense\n",
    "\n",
    "# Input layer\n",
    "input_layer = Input(shape=(signal.shape[0],))\n",
    "# Encoder layers\n",
    "encoded = Dense(256, activation=\"relu\")(input_layer)\n",
    "encoded = Dense(128, activation=\"relu\")(encoded)\n",
    "encoded = Dense(64, activation=\"relu\")(encoded)\n",
    "# Latent view\n",
    "latent_view = Dense(32, activation=\"relu\")(encoded)\n",
    "# Decoder layers\n",
    "decoded = Dense(64, activation=\"relu\")(latent_view)\n",
    "decoded = Dense(128, activation=\"relu\")(decoded)\n",
    "decoded = Dense(256, activation=\"relu\")(decoded)\n",
    "# Output layer\n",
    "output_layer = Dense(signal.shape[0], activation=\"linear\")(decoded)\n",
    "\n",
    "# Compile the model\n",
    "from tensorflow.keras.models import Model\n",
    "\n",
    "autoencoder = Model(input_layer, output_layer)\n",
    "autoencoder.compile(optimizer=\"adam\", loss=\"mse\")\n",
    "autoencoder.summary()\n",
    "\n",
    "# Train the model\n"
   ]
  }
 ],
 "metadata": {
  "kernelspec": {
   "display_name": "Python 3.10.4 64-bit",
   "language": "python",
   "name": "python3"
  },
  "language_info": {
   "codemirror_mode": {
    "name": "ipython",
    "version": 3
   },
   "file_extension": ".py",
   "mimetype": "text/x-python",
   "name": "python",
   "nbconvert_exporter": "python",
   "pygments_lexer": "ipython3",
   "version": "3.10.4"
  },
  "orig_nbformat": 4,
  "vscode": {
   "interpreter": {
    "hash": "0831c9a8f38bf0534c50bfaa0f7ad63ee7d3a6b807ce61f39252cf011aaed1cf"
   }
  }
 },
 "nbformat": 4,
 "nbformat_minor": 2
}

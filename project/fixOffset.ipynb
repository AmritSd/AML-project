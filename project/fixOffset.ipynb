{
 "cells": [
  {
   "cell_type": "code",
   "execution_count": 1,
   "metadata": {},
   "outputs": [],
   "source": [
    "# Open wav file and load into numpy array\n",
    "import numpy as np\n",
    "import wave\n",
    "import matplotlib.pyplot as plt\n",
    "import os\n",
    "\n",
    "dataFolder = \"data/audio/\"\n",
    "\n",
    "def load_wav_file(filename):\n",
    "    wav = wave.open(filename, \"r\")\n",
    "    frames = wav.readframes(-1)\n",
    "    sound_info = np.frombuffer(frames, \"int16\")\n",
    "    frame_rate = wav.getframerate()\n",
    "    wav.close()\n",
    "    return sound_info, frame_rate\n",
    "\n",
    "def plot_wav_file(sound_info):\n",
    "    plt.figure(num=None, figsize=(10, 5))\n",
    "    plt.title('Raw wave')\n",
    "    plt.ylabel('Amplitude')\n",
    "    plt.plot(sound_info)\n",
    "    plt.show()\n",
    "\n",
    "# Plot the average amplitude of the audio file\n",
    "def plot_average_amplitude(signal, title=\"Average amplitude\"):\n",
    "    plt.figure(num=None, figsize=(10, 5))\n",
    "    plt.title(title)\n",
    "    plt.ylabel('Amplitude')\n",
    "    plt.axhline(np.average(np.abs(signal)) * 5, color='r')\n",
    "    plt.plot(signal, alpha=0.5)\n",
    "    plt.show()\n",
    "\n",
    "def save_audio(signal, filename, denormalize=True):\n",
    "    if denormalize:\n",
    "        signal = signal * 30000\n",
    "    \n",
    "    signal = np.array(signal, dtype=np.int16)\n",
    "    wavefile = wave.open(filename, \"w\")\n",
    "    wavefile.setnchannels(1)\n",
    "    wavefile.setsampwidth(2)\n",
    "    wavefile.setframerate(20000)\n",
    "    wavefile.writeframes(signal)\n",
    "    wavefile.close()\n",
    "\n",
    "signals = []\n",
    "fileNames = []\n",
    "for filename in os.listdir(dataFolder):\n",
    "    if filename.endswith(\".wav\"):\n",
    "        signals.append(load_wav_file(dataFolder + filename)[0])\n",
    "        fileNames.append(filename)\n",
    "\n",
    "        \n",
    "\n",
    "\n"
   ]
  },
  {
   "cell_type": "code",
   "execution_count": 3,
   "metadata": {},
   "outputs": [
    {
     "data": {
      "image/png": "[encoded data removed]",
      "text/plain": [
       "<Figure size 720x360 with 1 Axes>"
      ]
     },
     "metadata": {
      "needs_background": "light"
     },
     "output_type": "display_data"
    }
   ],
   "source": [
    "# Plot the average amplitude of the audio file\n",
    "plot_average_amplitude(signals[0], title=\"Average amplitude of \" + fileNames[0])\n",
    "save_audio(signals[0], \"data/audio/average.wav\")"
   ]
  },
  {
   "cell_type": "code",
   "execution_count": 10,
   "metadata": {},
   "outputs": [
    {
     "name": "stdout",
     "output_type": "stream",
     "text": [
      "aejvqoknnp.wav\n",
      "afceoescqs.wav\n",
      "cgxwaehnir.wav\n",
      "dumxartuej.wav\n",
      "fseivkaego.wav\n",
      "heddrodrmd.wav\n",
      "ieaxshpxwj.wav\n",
      "iiuanaofgh.wav\n",
      "jpjcecupwp.wav\n",
      "kttcqvdgul.wav\n",
      "mokhicvkqf.wav\n",
      "mxhplmsaoy.wav\n",
      "nekumenpgv.wav\n",
      "nvdmllxvqy.wav\n",
      "oagvqxyqxz.wav\n",
      "ooyevtcxvf.wav\n",
      "pxtgqsabnh.wav\n",
      "rjrqbatlca.wav\n",
      "rupzhrxnvo.wav\n",
      "tkaorzfyzc.wav\n",
      "tsoxcpgasb.wav\n",
      "ugsvpqnwjq.wav\n",
      "uqvsgllfeq.wav\n",
      "xmclwscjcz.wav\n",
      "xwrxxvztrb.wav\n",
      "ztvloagxul.wav\n",
      "zviuujuuou.wav\n"
     ]
    }
   ],
   "source": [
    "shiftedSignals = []\n",
    "\n",
    "for signal in signals:\n",
    "    avg = np.average(np.abs(signal))\n",
    "    firstPeak = 0\n",
    "    for i in range(len(signal)):\n",
    "        if np.abs(signal[i]) > avg * 5:\n",
    "            firstPeak = i\n",
    "            break\n",
    "    \n",
    "    firstPeak = firstPeak - 1000 if firstPeak > 1000 else 0\n",
    "    shiftedSignal = signal[firstPeak:]\n",
    "    # Pad with zeros to make all signals the same length\n",
    "    shiftedSignal = np.pad(shiftedSignal, (0, len(signal) - len(shiftedSignal)), 'constant')\n",
    "    shiftedSignals.append(shiftedSignal)\n",
    "\n",
    "folderToSave = \"data/adjustedAudio/\"\n",
    "\n",
    "for i, signal in enumerate(shiftedSignals):\n",
    "    f = fileNames[i]\n",
    "    print(f)\n",
    "    save_audio(signal, folderToSave + f, denormalize=False)\n"
   ]
  }
 ],
 "metadata": {
  "kernelspec": {
   "display_name": "Python 3.10.4 64-bit",
   "language": "python",
   "name": "python3"
  },
  "language_info": {
   "codemirror_mode": {
    "name": "ipython",
    "version": 3
   },
   "file_extension": ".py",
   "mimetype": "text/x-python",
   "name": "python",
   "nbconvert_exporter": "python",
   "pygments_lexer": "ipython3",
   "version": "3.10.4"
  },
  "orig_nbformat": 4,
  "vscode": {
   "interpreter": {
    "hash": "0831c9a8f38bf0534c50bfaa0f7ad63ee7d3a6b807ce61f39252cf011aaed1cf"
   }
  }
 },
 "nbformat": 4,
 "nbformat_minor": 2
}
